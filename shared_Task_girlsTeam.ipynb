{
  "cells": [
    {
      "cell_type": "code",
      "execution_count": null,
      "metadata": {
        "id": "qI_TIbSc_-B_"
      },
      "outputs": [],
      "source": [
        "import pandas as pd"
      ]
    },
    {
      "cell_type": "code",
      "execution_count": null,
      "metadata": {
        "id": "CyC9C7BqAItO"
      },
      "outputs": [],
      "source": [
        "# train_df=pd.read_csv('/content/FinalTrain.csv')\n",
        "train_df=pd.read_csv('/content/shared_task_training_data.csv')"
      ]
    },
    {
      "cell_type": "code",
      "source": [
        "train_df['label'].value_counts()"
      ],
      "metadata": {
        "colab": {
          "base_uri": "https://localhost:8080/",
          "height": 178
        },
        "id": "KqB73FRkT_7C",
        "outputId": "bb9742e2-4a26-4c60-927d-905ab20fa9bd"
      },
      "execution_count": null,
      "outputs": [
        {
          "output_type": "execute_result",
          "data": {
            "text/plain": [
              "label\n",
              "0    3415\n",
              "1    2097\n",
              "Name: count, dtype: int64"
            ],
            "text/html": [
              "<div>\n",
              "<style scoped>\n",
              "    .dataframe tbody tr th:only-of-type {\n",
              "        vertical-align: middle;\n",
              "    }\n",
              "\n",
              "    .dataframe tbody tr th {\n",
              "        vertical-align: top;\n",
              "    }\n",
              "\n",
              "    .dataframe thead th {\n",
              "        text-align: right;\n",
              "    }\n",
              "</style>\n",
              "<table border=\"1\" class=\"dataframe\">\n",
              "  <thead>\n",
              "    <tr style=\"text-align: right;\">\n",
              "      <th></th>\n",
              "      <th>count</th>\n",
              "    </tr>\n",
              "    <tr>\n",
              "      <th>label</th>\n",
              "      <th></th>\n",
              "    </tr>\n",
              "  </thead>\n",
              "  <tbody>\n",
              "    <tr>\n",
              "      <th>0</th>\n",
              "      <td>3415</td>\n",
              "    </tr>\n",
              "    <tr>\n",
              "      <th>1</th>\n",
              "      <td>2097</td>\n",
              "    </tr>\n",
              "  </tbody>\n",
              "</table>\n",
              "</div><br><label><b>dtype:</b> int64</label>"
            ]
          },
          "metadata": {},
          "execution_count": 4
        }
      ]
    },
    {
      "cell_type": "code",
      "execution_count": null,
      "metadata": {
        "id": "2IVyjD2QM-0W"
      },
      "outputs": [],
      "source": [
        "train_df=train_df.drop(['id'],axis=1)"
      ]
    },
    {
      "cell_type": "code",
      "execution_count": null,
      "metadata": {
        "id": "xjLgrKQhKUfO"
      },
      "outputs": [],
      "source": [
        "def preprocess_lowercase(review):\n",
        "    return ' '.join([word.lower() if word.isalpha() else word for word in review.split()])\n",
        "train_df['text'] = train_df['text'].apply(preprocess_lowercase)"
      ]
    },
    {
      "cell_type": "code",
      "execution_count": null,
      "metadata": {
        "id": "gNrzeTeqKUiD"
      },
      "outputs": [],
      "source": [
        "import re\n",
        "def remove_html_tags(text):\n",
        "    pattern = re.compile('<.*?>')\n",
        "    return pattern.sub(r'',text)"
      ]
    },
    {
      "cell_type": "code",
      "execution_count": null,
      "metadata": {
        "id": "LLkpswqrKUks"
      },
      "outputs": [],
      "source": [
        "train_df['text'] = train_df['text'].apply(remove_html_tags)"
      ]
    },
    {
      "cell_type": "code",
      "execution_count": null,
      "metadata": {
        "id": "fgvhjESuKUnM"
      },
      "outputs": [],
      "source": [
        "\n",
        "def remove_links(text):\n",
        "    pattern = re.compile(r'https?://\\S+|www\\.\\S+')\n",
        "    return pattern.sub(r'',text)"
      ]
    },
    {
      "cell_type": "code",
      "execution_count": null,
      "metadata": {
        "id": "kHUNctAeKUpv"
      },
      "outputs": [],
      "source": [
        "train_df['text'] = train_df['text'].apply(remove_links)"
      ]
    },
    {
      "cell_type": "code",
      "execution_count": null,
      "metadata": {
        "id": "Ckb0yYETM6_V"
      },
      "outputs": [],
      "source": []
    },
    {
      "cell_type": "code",
      "execution_count": null,
      "metadata": {
        "id": "hYtgItFBKUsY"
      },
      "outputs": [],
      "source": [
        "import string\n",
        "exclude = string.punctuation\n",
        "# faster function to remove punctuation marks\n",
        "def remove_punc1(text):\n",
        "    return text.translate(str.maketrans('','',exclude))\n",
        "\n",
        "train_df['text'] = train_df['text'].apply(remove_punc1)"
      ]
    },
    {
      "cell_type": "code",
      "execution_count": null,
      "metadata": {
        "id": "xZb-mj9HKUvA"
      },
      "outputs": [],
      "source": [
        "import re\n",
        "\n",
        "def remove_emoji(text):\n",
        "    emoji_pattern = re.compile(\n",
        "        \"[\"\n",
        "        u\"\\U0001F600-\\U0001F64F\"  # Emoticons\n",
        "        u\"\\U0001F300-\\U0001F5FF\"  # Symbols & pictographs\n",
        "        u\"\\U0001F680-\\U0001F6FF\"  # Transport & map symbols\n",
        "        u\"\\U0001F1E0-\\U0001F1FF\"  # Flags\n",
        "        u\"\\U00002500-\\U00002BEF\"  # Chinese characters and more\n",
        "        u\"\\U00002702-\\U000027B0\"  # Dingbats\n",
        "        u\"\\U000024C2-\\U0001F251\"  # Misc symbols\n",
        "        u\"\\U0001F900-\\U0001F9FF\"  # Supplemental Symbols and Pictographs\n",
        "        u\"\\U0001FA70-\\U0001FAFF\"  # Symbols and pictographs extended-A\n",
        "        u\"\\U0001F004-\\U0001F0CF\"  # Mahjong and playing cards\n",
        "        \"]+\", flags=re.UNICODE\n",
        "    )\n",
        "    return emoji_pattern.sub('', text)"
      ]
    },
    {
      "cell_type": "code",
      "execution_count": null,
      "metadata": {
        "id": "XuHXfic3KUxv"
      },
      "outputs": [],
      "source": [
        "train_df['text'] = train_df['text'].apply(remove_emoji)"
      ]
    },
    {
      "cell_type": "code",
      "execution_count": null,
      "metadata": {
        "colab": {
          "base_uri": "https://localhost:8080/",
          "height": 363
        },
        "id": "DZCjWaLbKU0Q",
        "outputId": "1af8584c-20f4-494b-812c-18b02f4b0e4c"
      },
      "outputs": [
        {
          "output_type": "execute_result",
          "data": {
            "text/plain": [
              "                                                text  label\n",
              "0  indha ariya kandupidippin moolam neenga solla ...      0\n",
              "1          vijayakumarp7959 unmai therincha nee pesu      0\n",
              "2  inga erukka yella dev boys vadakkan vadakkan s...      1\n",
              "3  பீகாரி பிரசாந்த் கிஷோரிடம் கொடுத்த 350 கோடியை ...      1\n",
              "4        mumbai bangalore la 80 percentage outsiders      1\n",
              "5  யோவ் முதல்ல புரிஞ்சிக்க சிங்கப்பூர் மலேசிய dev...      1\n",
              "6  elam fake news old news fraud news pota apdtha...      0\n",
              "7  வடக்கன் வாய் மூடி இருக்குடா தமிழா விழித்துக்கொ...      1\n",
              "8  paarkkaa rombaa vey kastamaa irukku tamilannaa...      0\n",
              "9  iyya cinna vendu kol devar enathula biruvinai ...      0"
            ],
            "text/html": [
              "\n",
              "  <div id=\"df-3290d1b2-059c-45ce-a7e1-8eb5858d107b\" class=\"colab-df-container\">\n",
              "    <div>\n",
              "<style scoped>\n",
              "    .dataframe tbody tr th:only-of-type {\n",
              "        vertical-align: middle;\n",
              "    }\n",
              "\n",
              "    .dataframe tbody tr th {\n",
              "        vertical-align: top;\n",
              "    }\n",
              "\n",
              "    .dataframe thead th {\n",
              "        text-align: right;\n",
              "    }\n",
              "</style>\n",
              "<table border=\"1\" class=\"dataframe\">\n",
              "  <thead>\n",
              "    <tr style=\"text-align: right;\">\n",
              "      <th></th>\n",
              "      <th>text</th>\n",
              "      <th>label</th>\n",
              "    </tr>\n",
              "  </thead>\n",
              "  <tbody>\n",
              "    <tr>\n",
              "      <th>0</th>\n",
              "      <td>indha ariya kandupidippin moolam neenga solla ...</td>\n",
              "      <td>0</td>\n",
              "    </tr>\n",
              "    <tr>\n",
              "      <th>1</th>\n",
              "      <td>vijayakumarp7959 unmai therincha nee pesu</td>\n",
              "      <td>0</td>\n",
              "    </tr>\n",
              "    <tr>\n",
              "      <th>2</th>\n",
              "      <td>inga erukka yella dev boys vadakkan vadakkan s...</td>\n",
              "      <td>1</td>\n",
              "    </tr>\n",
              "    <tr>\n",
              "      <th>3</th>\n",
              "      <td>பீகாரி பிரசாந்த் கிஷோரிடம் கொடுத்த 350 கோடியை ...</td>\n",
              "      <td>1</td>\n",
              "    </tr>\n",
              "    <tr>\n",
              "      <th>4</th>\n",
              "      <td>mumbai bangalore la 80 percentage outsiders</td>\n",
              "      <td>1</td>\n",
              "    </tr>\n",
              "    <tr>\n",
              "      <th>5</th>\n",
              "      <td>யோவ் முதல்ல புரிஞ்சிக்க சிங்கப்பூர் மலேசிய dev...</td>\n",
              "      <td>1</td>\n",
              "    </tr>\n",
              "    <tr>\n",
              "      <th>6</th>\n",
              "      <td>elam fake news old news fraud news pota apdtha...</td>\n",
              "      <td>0</td>\n",
              "    </tr>\n",
              "    <tr>\n",
              "      <th>7</th>\n",
              "      <td>வடக்கன் வாய் மூடி இருக்குடா தமிழா விழித்துக்கொ...</td>\n",
              "      <td>1</td>\n",
              "    </tr>\n",
              "    <tr>\n",
              "      <th>8</th>\n",
              "      <td>paarkkaa rombaa vey kastamaa irukku tamilannaa...</td>\n",
              "      <td>0</td>\n",
              "    </tr>\n",
              "    <tr>\n",
              "      <th>9</th>\n",
              "      <td>iyya cinna vendu kol devar enathula biruvinai ...</td>\n",
              "      <td>0</td>\n",
              "    </tr>\n",
              "  </tbody>\n",
              "</table>\n",
              "</div>\n",
              "    <div class=\"colab-df-buttons\">\n",
              "\n",
              "  <div class=\"colab-df-container\">\n",
              "    <button class=\"colab-df-convert\" onclick=\"convertToInteractive('df-3290d1b2-059c-45ce-a7e1-8eb5858d107b')\"\n",
              "            title=\"Convert this dataframe to an interactive table.\"\n",
              "            style=\"display:none;\">\n",
              "\n",
              "  <svg xmlns=\"http://www.w3.org/2000/svg\" height=\"24px\" viewBox=\"0 -960 960 960\">\n",
              "    <path d=\"M120-120v-720h720v720H120Zm60-500h600v-160H180v160Zm220 220h160v-160H400v160Zm0 220h160v-160H400v160ZM180-400h160v-160H180v160Zm440 0h160v-160H620v160ZM180-180h160v-160H180v160Zm440 0h160v-160H620v160Z\"/>\n",
              "  </svg>\n",
              "    </button>\n",
              "\n",
              "  <style>\n",
              "    .colab-df-container {\n",
              "      display:flex;\n",
              "      gap: 12px;\n",
              "    }\n",
              "\n",
              "    .colab-df-convert {\n",
              "      background-color: #E8F0FE;\n",
              "      border: none;\n",
              "      border-radius: 50%;\n",
              "      cursor: pointer;\n",
              "      display: none;\n",
              "      fill: #1967D2;\n",
              "      height: 32px;\n",
              "      padding: 0 0 0 0;\n",
              "      width: 32px;\n",
              "    }\n",
              "\n",
              "    .colab-df-convert:hover {\n",
              "      background-color: #E2EBFA;\n",
              "      box-shadow: 0px 1px 2px rgba(60, 64, 67, 0.3), 0px 1px 3px 1px rgba(60, 64, 67, 0.15);\n",
              "      fill: #174EA6;\n",
              "    }\n",
              "\n",
              "    .colab-df-buttons div {\n",
              "      margin-bottom: 4px;\n",
              "    }\n",
              "\n",
              "    [theme=dark] .colab-df-convert {\n",
              "      background-color: #3B4455;\n",
              "      fill: #D2E3FC;\n",
              "    }\n",
              "\n",
              "    [theme=dark] .colab-df-convert:hover {\n",
              "      background-color: #434B5C;\n",
              "      box-shadow: 0px 1px 3px 1px rgba(0, 0, 0, 0.15);\n",
              "      filter: drop-shadow(0px 1px 2px rgba(0, 0, 0, 0.3));\n",
              "      fill: #FFFFFF;\n",
              "    }\n",
              "  </style>\n",
              "\n",
              "    <script>\n",
              "      const buttonEl =\n",
              "        document.querySelector('#df-3290d1b2-059c-45ce-a7e1-8eb5858d107b button.colab-df-convert');\n",
              "      buttonEl.style.display =\n",
              "        google.colab.kernel.accessAllowed ? 'block' : 'none';\n",
              "\n",
              "      async function convertToInteractive(key) {\n",
              "        const element = document.querySelector('#df-3290d1b2-059c-45ce-a7e1-8eb5858d107b');\n",
              "        const dataTable =\n",
              "          await google.colab.kernel.invokeFunction('convertToInteractive',\n",
              "                                                    [key], {});\n",
              "        if (!dataTable) return;\n",
              "\n",
              "        const docLinkHtml = 'Like what you see? Visit the ' +\n",
              "          '<a target=\"_blank\" href=https://colab.research.google.com/notebooks/data_table.ipynb>data table notebook</a>'\n",
              "          + ' to learn more about interactive tables.';\n",
              "        element.innerHTML = '';\n",
              "        dataTable['output_type'] = 'display_data';\n",
              "        await google.colab.output.renderOutput(dataTable, element);\n",
              "        const docLink = document.createElement('div');\n",
              "        docLink.innerHTML = docLinkHtml;\n",
              "        element.appendChild(docLink);\n",
              "      }\n",
              "    </script>\n",
              "  </div>\n",
              "\n",
              "\n",
              "    <div id=\"df-c36e0d13-4e80-41f8-83bb-79aeba209003\">\n",
              "      <button class=\"colab-df-quickchart\" onclick=\"quickchart('df-c36e0d13-4e80-41f8-83bb-79aeba209003')\"\n",
              "                title=\"Suggest charts\"\n",
              "                style=\"display:none;\">\n",
              "\n",
              "<svg xmlns=\"http://www.w3.org/2000/svg\" height=\"24px\"viewBox=\"0 0 24 24\"\n",
              "     width=\"24px\">\n",
              "    <g>\n",
              "        <path d=\"M19 3H5c-1.1 0-2 .9-2 2v14c0 1.1.9 2 2 2h14c1.1 0 2-.9 2-2V5c0-1.1-.9-2-2-2zM9 17H7v-7h2v7zm4 0h-2V7h2v10zm4 0h-2v-4h2v4z\"/>\n",
              "    </g>\n",
              "</svg>\n",
              "      </button>\n",
              "\n",
              "<style>\n",
              "  .colab-df-quickchart {\n",
              "      --bg-color: #E8F0FE;\n",
              "      --fill-color: #1967D2;\n",
              "      --hover-bg-color: #E2EBFA;\n",
              "      --hover-fill-color: #174EA6;\n",
              "      --disabled-fill-color: #AAA;\n",
              "      --disabled-bg-color: #DDD;\n",
              "  }\n",
              "\n",
              "  [theme=dark] .colab-df-quickchart {\n",
              "      --bg-color: #3B4455;\n",
              "      --fill-color: #D2E3FC;\n",
              "      --hover-bg-color: #434B5C;\n",
              "      --hover-fill-color: #FFFFFF;\n",
              "      --disabled-bg-color: #3B4455;\n",
              "      --disabled-fill-color: #666;\n",
              "  }\n",
              "\n",
              "  .colab-df-quickchart {\n",
              "    background-color: var(--bg-color);\n",
              "    border: none;\n",
              "    border-radius: 50%;\n",
              "    cursor: pointer;\n",
              "    display: none;\n",
              "    fill: var(--fill-color);\n",
              "    height: 32px;\n",
              "    padding: 0;\n",
              "    width: 32px;\n",
              "  }\n",
              "\n",
              "  .colab-df-quickchart:hover {\n",
              "    background-color: var(--hover-bg-color);\n",
              "    box-shadow: 0 1px 2px rgba(60, 64, 67, 0.3), 0 1px 3px 1px rgba(60, 64, 67, 0.15);\n",
              "    fill: var(--button-hover-fill-color);\n",
              "  }\n",
              "\n",
              "  .colab-df-quickchart-complete:disabled,\n",
              "  .colab-df-quickchart-complete:disabled:hover {\n",
              "    background-color: var(--disabled-bg-color);\n",
              "    fill: var(--disabled-fill-color);\n",
              "    box-shadow: none;\n",
              "  }\n",
              "\n",
              "  .colab-df-spinner {\n",
              "    border: 2px solid var(--fill-color);\n",
              "    border-color: transparent;\n",
              "    border-bottom-color: var(--fill-color);\n",
              "    animation:\n",
              "      spin 1s steps(1) infinite;\n",
              "  }\n",
              "\n",
              "  @keyframes spin {\n",
              "    0% {\n",
              "      border-color: transparent;\n",
              "      border-bottom-color: var(--fill-color);\n",
              "      border-left-color: var(--fill-color);\n",
              "    }\n",
              "    20% {\n",
              "      border-color: transparent;\n",
              "      border-left-color: var(--fill-color);\n",
              "      border-top-color: var(--fill-color);\n",
              "    }\n",
              "    30% {\n",
              "      border-color: transparent;\n",
              "      border-left-color: var(--fill-color);\n",
              "      border-top-color: var(--fill-color);\n",
              "      border-right-color: var(--fill-color);\n",
              "    }\n",
              "    40% {\n",
              "      border-color: transparent;\n",
              "      border-right-color: var(--fill-color);\n",
              "      border-top-color: var(--fill-color);\n",
              "    }\n",
              "    60% {\n",
              "      border-color: transparent;\n",
              "      border-right-color: var(--fill-color);\n",
              "    }\n",
              "    80% {\n",
              "      border-color: transparent;\n",
              "      border-right-color: var(--fill-color);\n",
              "      border-bottom-color: var(--fill-color);\n",
              "    }\n",
              "    90% {\n",
              "      border-color: transparent;\n",
              "      border-bottom-color: var(--fill-color);\n",
              "    }\n",
              "  }\n",
              "</style>\n",
              "\n",
              "      <script>\n",
              "        async function quickchart(key) {\n",
              "          const quickchartButtonEl =\n",
              "            document.querySelector('#' + key + ' button');\n",
              "          quickchartButtonEl.disabled = true;  // To prevent multiple clicks.\n",
              "          quickchartButtonEl.classList.add('colab-df-spinner');\n",
              "          try {\n",
              "            const charts = await google.colab.kernel.invokeFunction(\n",
              "                'suggestCharts', [key], {});\n",
              "          } catch (error) {\n",
              "            console.error('Error during call to suggestCharts:', error);\n",
              "          }\n",
              "          quickchartButtonEl.classList.remove('colab-df-spinner');\n",
              "          quickchartButtonEl.classList.add('colab-df-quickchart-complete');\n",
              "        }\n",
              "        (() => {\n",
              "          let quickchartButtonEl =\n",
              "            document.querySelector('#df-c36e0d13-4e80-41f8-83bb-79aeba209003 button');\n",
              "          quickchartButtonEl.style.display =\n",
              "            google.colab.kernel.accessAllowed ? 'block' : 'none';\n",
              "        })();\n",
              "      </script>\n",
              "    </div>\n",
              "\n",
              "    </div>\n",
              "  </div>\n"
            ],
            "application/vnd.google.colaboratory.intrinsic+json": {
              "type": "dataframe",
              "variable_name": "train_df",
              "summary": "{\n  \"name\": \"train_df\",\n  \"rows\": 5512,\n  \"fields\": [\n    {\n      \"column\": \"text\",\n      \"properties\": {\n        \"dtype\": \"string\",\n        \"num_unique_values\": 4471,\n        \"samples\": [\n          \"\\u0b95\\u0bcb\\u0bb5\\u0bbf\\u0bb2 \\u0b95\\u0bb0\\u0bc1\\u0bb5\\u0bb1\\u0bc8 \\u0bae\\u0bc1\\u0ba4\\u0bb2\\u0bcd \\u0bb5\\u0bc6\\u0bb3\\u0bbf\\u0baf \\u0bb5\\u0bb0\\u0bc8 \\u0baa\\u0bbf\\u0bb0\\u0b9a\\u0bcd\\u0ba9\\u0bc8 \\u0ba4\\u0bbe\\u0ba9\\u0bbe \\u200d\\u200d\",\n          \"paarka evulavu santhoshama irukradhu oyy\",\n          \"poiya donkey tamil people not lazy\"\n        ],\n        \"semantic_type\": \"\",\n        \"description\": \"\"\n      }\n    },\n    {\n      \"column\": \"label\",\n      \"properties\": {\n        \"dtype\": \"number\",\n        \"std\": 0,\n        \"min\": 0,\n        \"max\": 1,\n        \"num_unique_values\": 2,\n        \"samples\": [\n          1,\n          0\n        ],\n        \"semantic_type\": \"\",\n        \"description\": \"\"\n      }\n    }\n  ]\n}"
            }
          },
          "metadata": {},
          "execution_count": 14
        }
      ],
      "source": [
        "train_df.head(10)"
      ]
    },
    {
      "cell_type": "code",
      "execution_count": null,
      "metadata": {
        "id": "vi5XOw9XKU25"
      },
      "outputs": [],
      "source": []
    },
    {
      "cell_type": "code",
      "execution_count": null,
      "metadata": {
        "id": "BPAE8ux8KU6c"
      },
      "outputs": [],
      "source": []
    },
    {
      "cell_type": "code",
      "execution_count": null,
      "metadata": {
        "id": "TEtcbmY_ActK"
      },
      "outputs": [],
      "source": [
        "eval_df=pd.read_csv('/content/shared_task_dev_data.csv')"
      ]
    },
    {
      "cell_type": "code",
      "source": [
        "eval_df['label'].value_counts()"
      ],
      "metadata": {
        "colab": {
          "base_uri": "https://localhost:8080/",
          "height": 178
        },
        "id": "SwShPjpxUHeB",
        "outputId": "9e09259d-127b-472a-90c9-9e352a16e2ab"
      },
      "execution_count": null,
      "outputs": [
        {
          "output_type": "execute_result",
          "data": {
            "text/plain": [
              "label\n",
              "0    485\n",
              "1    302\n",
              "Name: count, dtype: int64"
            ],
            "text/html": [
              "<div>\n",
              "<style scoped>\n",
              "    .dataframe tbody tr th:only-of-type {\n",
              "        vertical-align: middle;\n",
              "    }\n",
              "\n",
              "    .dataframe tbody tr th {\n",
              "        vertical-align: top;\n",
              "    }\n",
              "\n",
              "    .dataframe thead th {\n",
              "        text-align: right;\n",
              "    }\n",
              "</style>\n",
              "<table border=\"1\" class=\"dataframe\">\n",
              "  <thead>\n",
              "    <tr style=\"text-align: right;\">\n",
              "      <th></th>\n",
              "      <th>count</th>\n",
              "    </tr>\n",
              "    <tr>\n",
              "      <th>label</th>\n",
              "      <th></th>\n",
              "    </tr>\n",
              "  </thead>\n",
              "  <tbody>\n",
              "    <tr>\n",
              "      <th>0</th>\n",
              "      <td>485</td>\n",
              "    </tr>\n",
              "    <tr>\n",
              "      <th>1</th>\n",
              "      <td>302</td>\n",
              "    </tr>\n",
              "  </tbody>\n",
              "</table>\n",
              "</div><br><label><b>dtype:</b> int64</label>"
            ]
          },
          "metadata": {},
          "execution_count": 16
        }
      ]
    },
    {
      "cell_type": "code",
      "execution_count": null,
      "metadata": {
        "id": "NMdOro6DKdDp"
      },
      "outputs": [],
      "source": [
        "test_df=pd.read_csv('/content/test_with_labels.csv')"
      ]
    },
    {
      "cell_type": "code",
      "source": [
        "test_df['label'].value_counts()"
      ],
      "metadata": {
        "id": "iEQDmcWrUYjK",
        "outputId": "c7fca7ec-43c8-4d56-f2ca-b3eb9222cc44",
        "colab": {
          "base_uri": "https://localhost:8080/",
          "height": 178
        }
      },
      "execution_count": null,
      "outputs": [
        {
          "output_type": "execute_result",
          "data": {
            "text/plain": [
              "label\n",
              "0    970\n",
              "1    606\n",
              "Name: count, dtype: int64"
            ],
            "text/html": [
              "<div>\n",
              "<style scoped>\n",
              "    .dataframe tbody tr th:only-of-type {\n",
              "        vertical-align: middle;\n",
              "    }\n",
              "\n",
              "    .dataframe tbody tr th {\n",
              "        vertical-align: top;\n",
              "    }\n",
              "\n",
              "    .dataframe thead th {\n",
              "        text-align: right;\n",
              "    }\n",
              "</style>\n",
              "<table border=\"1\" class=\"dataframe\">\n",
              "  <thead>\n",
              "    <tr style=\"text-align: right;\">\n",
              "      <th></th>\n",
              "      <th>count</th>\n",
              "    </tr>\n",
              "    <tr>\n",
              "      <th>label</th>\n",
              "      <th></th>\n",
              "    </tr>\n",
              "  </thead>\n",
              "  <tbody>\n",
              "    <tr>\n",
              "      <th>0</th>\n",
              "      <td>970</td>\n",
              "    </tr>\n",
              "    <tr>\n",
              "      <th>1</th>\n",
              "      <td>606</td>\n",
              "    </tr>\n",
              "  </tbody>\n",
              "</table>\n",
              "</div><br><label><b>dtype:</b> int64</label>"
            ]
          },
          "metadata": {},
          "execution_count": 18
        }
      ]
    },
    {
      "cell_type": "code",
      "execution_count": null,
      "metadata": {
        "id": "ArQvJnpLBziQ"
      },
      "outputs": [],
      "source": [
        "eval_df=eval_df.drop(['id'],axis=1)"
      ]
    },
    {
      "cell_type": "code",
      "execution_count": null,
      "metadata": {
        "id": "Ortpk1ziKdv3"
      },
      "outputs": [],
      "source": [
        "def preprocess_lowercase(review):\n",
        "    return ' '.join([word.lower() if word.isalpha() else word for word in review.split()])\n",
        "eval_df['text'] = eval_df['text'].apply(preprocess_lowercase)"
      ]
    },
    {
      "cell_type": "code",
      "source": [
        "def preprocess_lowercase(review):\n",
        "    return ' '.join([word.lower() if word.isalpha() else word for word in review.split()])\n",
        "test_df['text'] = test_df['text'].apply(preprocess_lowercase)"
      ],
      "metadata": {
        "id": "Lb0Z__EM9j5R"
      },
      "execution_count": null,
      "outputs": []
    },
    {
      "cell_type": "code",
      "execution_count": null,
      "metadata": {
        "id": "awonT_HpKeYN"
      },
      "outputs": [],
      "source": [
        "import re\n",
        "def remove_html_tags(text):\n",
        "    pattern = re.compile('<.*?>')\n",
        "    return pattern.sub(r'',text)"
      ]
    },
    {
      "cell_type": "code",
      "execution_count": null,
      "metadata": {
        "id": "djQJuRMcKea8"
      },
      "outputs": [],
      "source": [
        "eval_df['text'] = eval_df['text'].apply(remove_html_tags)"
      ]
    },
    {
      "cell_type": "code",
      "source": [
        "test_df['text'] = test_df['text'].apply(remove_html_tags)"
      ],
      "metadata": {
        "id": "Rsk91FNZ9niH"
      },
      "execution_count": null,
      "outputs": []
    },
    {
      "cell_type": "code",
      "execution_count": null,
      "metadata": {
        "id": "EPsafsxKKedr"
      },
      "outputs": [],
      "source": [
        "\n",
        "def remove_links(text):\n",
        "    pattern = re.compile(r'https?://\\S+|www\\.\\S+')\n",
        "    return pattern.sub(r'',text)"
      ]
    },
    {
      "cell_type": "code",
      "execution_count": null,
      "metadata": {
        "id": "TcaKp7MjKegO"
      },
      "outputs": [],
      "source": [
        "eval_df['text'] = eval_df['text'].apply(remove_links)\n"
      ]
    },
    {
      "cell_type": "code",
      "source": [
        "test_df[\"text\"]=test_df[\"text\"].apply(remove_links)"
      ],
      "metadata": {
        "id": "KIY-r3zd9sWP"
      },
      "execution_count": null,
      "outputs": []
    },
    {
      "cell_type": "code",
      "execution_count": null,
      "metadata": {
        "id": "vzej9LqaKeit"
      },
      "outputs": [],
      "source": [
        "import string\n",
        "exclude = string.punctuation\n",
        "# faster function to remove punctuation marks\n",
        "def remove_punc1(text):\n",
        "    return text.translate(str.maketrans('','',exclude))\n",
        "\n",
        "eval_df['text'] = eval_df['text'].apply(remove_punc1)"
      ]
    },
    {
      "cell_type": "code",
      "source": [
        "test_df['text'] = test_df['text'].apply(remove_punc1)"
      ],
      "metadata": {
        "id": "aH46T4aF9343"
      },
      "execution_count": null,
      "outputs": []
    },
    {
      "cell_type": "code",
      "execution_count": null,
      "metadata": {
        "id": "k7474_QgKeld"
      },
      "outputs": [],
      "source": [
        "import re\n",
        "\n",
        "def remove_emoji(text):\n",
        "    emoji_pattern = re.compile(\n",
        "        \"[\"\n",
        "        u\"\\U0001F600-\\U0001F64F\"  # Emoticons\n",
        "        u\"\\U0001F300-\\U0001F5FF\"  # Symbols & pictographs\n",
        "        u\"\\U0001F680-\\U0001F6FF\"  # Transport & map symbols\n",
        "        u\"\\U0001F1E0-\\U0001F1FF\"  # Flags\n",
        "        u\"\\U00002500-\\U00002BEF\"  # Chinese characters and more\n",
        "        u\"\\U00002702-\\U000027B0\"  # Dingbats\n",
        "        u\"\\U000024C2-\\U0001F251\"  # Misc symbols\n",
        "        u\"\\U0001F900-\\U0001F9FF\"  # Supplemental Symbols and Pictographs\n",
        "        u\"\\U0001FA70-\\U0001FAFF\"  # Symbols and pictographs extended-A\n",
        "        u\"\\U0001F004-\\U0001F0CF\"  # Mahjong and playing cards\n",
        "        \"]+\", flags=re.UNICODE\n",
        "    )\n",
        "    return emoji_pattern.sub('', text)"
      ]
    },
    {
      "cell_type": "code",
      "execution_count": null,
      "metadata": {
        "id": "7r1JGC3bKeoP"
      },
      "outputs": [],
      "source": [
        "eval_df['text'] = eval_df['text'].apply(remove_emoji)"
      ]
    },
    {
      "cell_type": "code",
      "source": [
        "test_df['text'] = test_df['text'].apply(remove_emoji)"
      ],
      "metadata": {
        "id": "jB0IbTcZ-h9I"
      },
      "execution_count": null,
      "outputs": []
    },
    {
      "cell_type": "code",
      "execution_count": null,
      "metadata": {
        "colab": {
          "base_uri": "https://localhost:8080/",
          "height": 363
        },
        "id": "JvddWgmGKeq-",
        "outputId": "990bfe89-200b-47fa-e047-2887ee61f443"
      },
      "outputs": [
        {
          "output_type": "execute_result",
          "data": {
            "text/plain": [
              "                                                text  label\n",
              "0                   hosur also mini north india bro       0\n",
              "1  rajaa9979 வணிகர் சங்கங்களின் தலைமை தமிழரிடத்தி...      0\n",
              "2              already telangana becomes hindi belt       0\n",
              "3  வட மாநிலத்தொழிளார் தமிழ்நாட்டினரரை தாக்கினால் ...      0\n",
              "4  தமிழன் வட இந்தியாவிலும் கேரளா ஆந்திரா கர்நாடகா...      0\n",
              "5  முதலில் இத்தனை காலம் பட்டபாட்டுக்கு கிடைத்த வெ...      0\n",
              "6    சிங்கப்பூர் நினைத்தால் தமிழ் மக்கள் அங்கே இல்லை      1\n",
              "7  தமிழ்நாட்டில் தமிழன் அடுத்த மாநிலக்கரணை பார்த்...      1\n",
              "8  அட இன்னுமாடா இந்த ஜாதி தலைவர்களை நம்புகிறிர்கள...      0\n",
              "9  என்ன அக்கறை தந்தி டிவி க்கு வடமாநிலத்தவர்கள் ம...      1"
            ],
            "text/html": [
              "\n",
              "  <div id=\"df-ddbb0a8f-837f-4abd-8ca0-1e30d1c66ce7\" class=\"colab-df-container\">\n",
              "    <div>\n",
              "<style scoped>\n",
              "    .dataframe tbody tr th:only-of-type {\n",
              "        vertical-align: middle;\n",
              "    }\n",
              "\n",
              "    .dataframe tbody tr th {\n",
              "        vertical-align: top;\n",
              "    }\n",
              "\n",
              "    .dataframe thead th {\n",
              "        text-align: right;\n",
              "    }\n",
              "</style>\n",
              "<table border=\"1\" class=\"dataframe\">\n",
              "  <thead>\n",
              "    <tr style=\"text-align: right;\">\n",
              "      <th></th>\n",
              "      <th>text</th>\n",
              "      <th>label</th>\n",
              "    </tr>\n",
              "  </thead>\n",
              "  <tbody>\n",
              "    <tr>\n",
              "      <th>0</th>\n",
              "      <td>hosur also mini north india bro</td>\n",
              "      <td>0</td>\n",
              "    </tr>\n",
              "    <tr>\n",
              "      <th>1</th>\n",
              "      <td>rajaa9979 வணிகர் சங்கங்களின் தலைமை தமிழரிடத்தி...</td>\n",
              "      <td>0</td>\n",
              "    </tr>\n",
              "    <tr>\n",
              "      <th>2</th>\n",
              "      <td>already telangana becomes hindi belt</td>\n",
              "      <td>0</td>\n",
              "    </tr>\n",
              "    <tr>\n",
              "      <th>3</th>\n",
              "      <td>வட மாநிலத்தொழிளார் தமிழ்நாட்டினரரை தாக்கினால் ...</td>\n",
              "      <td>0</td>\n",
              "    </tr>\n",
              "    <tr>\n",
              "      <th>4</th>\n",
              "      <td>தமிழன் வட இந்தியாவிலும் கேரளா ஆந்திரா கர்நாடகா...</td>\n",
              "      <td>0</td>\n",
              "    </tr>\n",
              "    <tr>\n",
              "      <th>5</th>\n",
              "      <td>முதலில் இத்தனை காலம் பட்டபாட்டுக்கு கிடைத்த வெ...</td>\n",
              "      <td>0</td>\n",
              "    </tr>\n",
              "    <tr>\n",
              "      <th>6</th>\n",
              "      <td>சிங்கப்பூர் நினைத்தால் தமிழ் மக்கள் அங்கே இல்லை</td>\n",
              "      <td>1</td>\n",
              "    </tr>\n",
              "    <tr>\n",
              "      <th>7</th>\n",
              "      <td>தமிழ்நாட்டில் தமிழன் அடுத்த மாநிலக்கரணை பார்த்...</td>\n",
              "      <td>1</td>\n",
              "    </tr>\n",
              "    <tr>\n",
              "      <th>8</th>\n",
              "      <td>அட இன்னுமாடா இந்த ஜாதி தலைவர்களை நம்புகிறிர்கள...</td>\n",
              "      <td>0</td>\n",
              "    </tr>\n",
              "    <tr>\n",
              "      <th>9</th>\n",
              "      <td>என்ன அக்கறை தந்தி டிவி க்கு வடமாநிலத்தவர்கள் ம...</td>\n",
              "      <td>1</td>\n",
              "    </tr>\n",
              "  </tbody>\n",
              "</table>\n",
              "</div>\n",
              "    <div class=\"colab-df-buttons\">\n",
              "\n",
              "  <div class=\"colab-df-container\">\n",
              "    <button class=\"colab-df-convert\" onclick=\"convertToInteractive('df-ddbb0a8f-837f-4abd-8ca0-1e30d1c66ce7')\"\n",
              "            title=\"Convert this dataframe to an interactive table.\"\n",
              "            style=\"display:none;\">\n",
              "\n",
              "  <svg xmlns=\"http://www.w3.org/2000/svg\" height=\"24px\" viewBox=\"0 -960 960 960\">\n",
              "    <path d=\"M120-120v-720h720v720H120Zm60-500h600v-160H180v160Zm220 220h160v-160H400v160Zm0 220h160v-160H400v160ZM180-400h160v-160H180v160Zm440 0h160v-160H620v160ZM180-180h160v-160H180v160Zm440 0h160v-160H620v160Z\"/>\n",
              "  </svg>\n",
              "    </button>\n",
              "\n",
              "  <style>\n",
              "    .colab-df-container {\n",
              "      display:flex;\n",
              "      gap: 12px;\n",
              "    }\n",
              "\n",
              "    .colab-df-convert {\n",
              "      background-color: #E8F0FE;\n",
              "      border: none;\n",
              "      border-radius: 50%;\n",
              "      cursor: pointer;\n",
              "      display: none;\n",
              "      fill: #1967D2;\n",
              "      height: 32px;\n",
              "      padding: 0 0 0 0;\n",
              "      width: 32px;\n",
              "    }\n",
              "\n",
              "    .colab-df-convert:hover {\n",
              "      background-color: #E2EBFA;\n",
              "      box-shadow: 0px 1px 2px rgba(60, 64, 67, 0.3), 0px 1px 3px 1px rgba(60, 64, 67, 0.15);\n",
              "      fill: #174EA6;\n",
              "    }\n",
              "\n",
              "    .colab-df-buttons div {\n",
              "      margin-bottom: 4px;\n",
              "    }\n",
              "\n",
              "    [theme=dark] .colab-df-convert {\n",
              "      background-color: #3B4455;\n",
              "      fill: #D2E3FC;\n",
              "    }\n",
              "\n",
              "    [theme=dark] .colab-df-convert:hover {\n",
              "      background-color: #434B5C;\n",
              "      box-shadow: 0px 1px 3px 1px rgba(0, 0, 0, 0.15);\n",
              "      filter: drop-shadow(0px 1px 2px rgba(0, 0, 0, 0.3));\n",
              "      fill: #FFFFFF;\n",
              "    }\n",
              "  </style>\n",
              "\n",
              "    <script>\n",
              "      const buttonEl =\n",
              "        document.querySelector('#df-ddbb0a8f-837f-4abd-8ca0-1e30d1c66ce7 button.colab-df-convert');\n",
              "      buttonEl.style.display =\n",
              "        google.colab.kernel.accessAllowed ? 'block' : 'none';\n",
              "\n",
              "      async function convertToInteractive(key) {\n",
              "        const element = document.querySelector('#df-ddbb0a8f-837f-4abd-8ca0-1e30d1c66ce7');\n",
              "        const dataTable =\n",
              "          await google.colab.kernel.invokeFunction('convertToInteractive',\n",
              "                                                    [key], {});\n",
              "        if (!dataTable) return;\n",
              "\n",
              "        const docLinkHtml = 'Like what you see? Visit the ' +\n",
              "          '<a target=\"_blank\" href=https://colab.research.google.com/notebooks/data_table.ipynb>data table notebook</a>'\n",
              "          + ' to learn more about interactive tables.';\n",
              "        element.innerHTML = '';\n",
              "        dataTable['output_type'] = 'display_data';\n",
              "        await google.colab.output.renderOutput(dataTable, element);\n",
              "        const docLink = document.createElement('div');\n",
              "        docLink.innerHTML = docLinkHtml;\n",
              "        element.appendChild(docLink);\n",
              "      }\n",
              "    </script>\n",
              "  </div>\n",
              "\n",
              "\n",
              "    <div id=\"df-22452c52-df20-4473-afe3-44d11ed803bc\">\n",
              "      <button class=\"colab-df-quickchart\" onclick=\"quickchart('df-22452c52-df20-4473-afe3-44d11ed803bc')\"\n",
              "                title=\"Suggest charts\"\n",
              "                style=\"display:none;\">\n",
              "\n",
              "<svg xmlns=\"http://www.w3.org/2000/svg\" height=\"24px\"viewBox=\"0 0 24 24\"\n",
              "     width=\"24px\">\n",
              "    <g>\n",
              "        <path d=\"M19 3H5c-1.1 0-2 .9-2 2v14c0 1.1.9 2 2 2h14c1.1 0 2-.9 2-2V5c0-1.1-.9-2-2-2zM9 17H7v-7h2v7zm4 0h-2V7h2v10zm4 0h-2v-4h2v4z\"/>\n",
              "    </g>\n",
              "</svg>\n",
              "      </button>\n",
              "\n",
              "<style>\n",
              "  .colab-df-quickchart {\n",
              "      --bg-color: #E8F0FE;\n",
              "      --fill-color: #1967D2;\n",
              "      --hover-bg-color: #E2EBFA;\n",
              "      --hover-fill-color: #174EA6;\n",
              "      --disabled-fill-color: #AAA;\n",
              "      --disabled-bg-color: #DDD;\n",
              "  }\n",
              "\n",
              "  [theme=dark] .colab-df-quickchart {\n",
              "      --bg-color: #3B4455;\n",
              "      --fill-color: #D2E3FC;\n",
              "      --hover-bg-color: #434B5C;\n",
              "      --hover-fill-color: #FFFFFF;\n",
              "      --disabled-bg-color: #3B4455;\n",
              "      --disabled-fill-color: #666;\n",
              "  }\n",
              "\n",
              "  .colab-df-quickchart {\n",
              "    background-color: var(--bg-color);\n",
              "    border: none;\n",
              "    border-radius: 50%;\n",
              "    cursor: pointer;\n",
              "    display: none;\n",
              "    fill: var(--fill-color);\n",
              "    height: 32px;\n",
              "    padding: 0;\n",
              "    width: 32px;\n",
              "  }\n",
              "\n",
              "  .colab-df-quickchart:hover {\n",
              "    background-color: var(--hover-bg-color);\n",
              "    box-shadow: 0 1px 2px rgba(60, 64, 67, 0.3), 0 1px 3px 1px rgba(60, 64, 67, 0.15);\n",
              "    fill: var(--button-hover-fill-color);\n",
              "  }\n",
              "\n",
              "  .colab-df-quickchart-complete:disabled,\n",
              "  .colab-df-quickchart-complete:disabled:hover {\n",
              "    background-color: var(--disabled-bg-color);\n",
              "    fill: var(--disabled-fill-color);\n",
              "    box-shadow: none;\n",
              "  }\n",
              "\n",
              "  .colab-df-spinner {\n",
              "    border: 2px solid var(--fill-color);\n",
              "    border-color: transparent;\n",
              "    border-bottom-color: var(--fill-color);\n",
              "    animation:\n",
              "      spin 1s steps(1) infinite;\n",
              "  }\n",
              "\n",
              "  @keyframes spin {\n",
              "    0% {\n",
              "      border-color: transparent;\n",
              "      border-bottom-color: var(--fill-color);\n",
              "      border-left-color: var(--fill-color);\n",
              "    }\n",
              "    20% {\n",
              "      border-color: transparent;\n",
              "      border-left-color: var(--fill-color);\n",
              "      border-top-color: var(--fill-color);\n",
              "    }\n",
              "    30% {\n",
              "      border-color: transparent;\n",
              "      border-left-color: var(--fill-color);\n",
              "      border-top-color: var(--fill-color);\n",
              "      border-right-color: var(--fill-color);\n",
              "    }\n",
              "    40% {\n",
              "      border-color: transparent;\n",
              "      border-right-color: var(--fill-color);\n",
              "      border-top-color: var(--fill-color);\n",
              "    }\n",
              "    60% {\n",
              "      border-color: transparent;\n",
              "      border-right-color: var(--fill-color);\n",
              "    }\n",
              "    80% {\n",
              "      border-color: transparent;\n",
              "      border-right-color: var(--fill-color);\n",
              "      border-bottom-color: var(--fill-color);\n",
              "    }\n",
              "    90% {\n",
              "      border-color: transparent;\n",
              "      border-bottom-color: var(--fill-color);\n",
              "    }\n",
              "  }\n",
              "</style>\n",
              "\n",
              "      <script>\n",
              "        async function quickchart(key) {\n",
              "          const quickchartButtonEl =\n",
              "            document.querySelector('#' + key + ' button');\n",
              "          quickchartButtonEl.disabled = true;  // To prevent multiple clicks.\n",
              "          quickchartButtonEl.classList.add('colab-df-spinner');\n",
              "          try {\n",
              "            const charts = await google.colab.kernel.invokeFunction(\n",
              "                'suggestCharts', [key], {});\n",
              "          } catch (error) {\n",
              "            console.error('Error during call to suggestCharts:', error);\n",
              "          }\n",
              "          quickchartButtonEl.classList.remove('colab-df-spinner');\n",
              "          quickchartButtonEl.classList.add('colab-df-quickchart-complete');\n",
              "        }\n",
              "        (() => {\n",
              "          let quickchartButtonEl =\n",
              "            document.querySelector('#df-22452c52-df20-4473-afe3-44d11ed803bc button');\n",
              "          quickchartButtonEl.style.display =\n",
              "            google.colab.kernel.accessAllowed ? 'block' : 'none';\n",
              "        })();\n",
              "      </script>\n",
              "    </div>\n",
              "\n",
              "    </div>\n",
              "  </div>\n"
            ],
            "application/vnd.google.colaboratory.intrinsic+json": {
              "type": "dataframe",
              "variable_name": "eval_df",
              "summary": "{\n  \"name\": \"eval_df\",\n  \"rows\": 787,\n  \"fields\": [\n    {\n      \"column\": \"text\",\n      \"properties\": {\n        \"dtype\": \"string\",\n        \"num_unique_values\": 767,\n        \"samples\": [\n          \"\\u0b85\\u0ba3\\u0bcd\\u0ba3\\u0ba9\\u0bcd \\u0b86\\u0ba4\\u0bc0\\u0baf\\u0bbe\\u0bb0\\u0bcd \\u0b85\\u0bb5\\u0bb0\\u0bcd\\u0b95\\u0bb3\\u0bcd \\u0ba8\\u0bc0\\u0b9f\\u0bc2\\u0bb4\\u0bbf \\u0bb5\\u0bbe\\u0bb4 \\u0bb5\\u0bc7\\u0ba3\\u0bcd\\u0b9f\\u0bc1\\u0bae\\u0bcd\",\n          \"gukananand6647 dai venna even law dont see it as discrimination go to court and prove it as discrimination every one has right of their worship just like how some beef eating as right amd as some see it as god not all have same belief in Hindus so mind ur business just like other mudhalaiyar chettiyar pillai etc who dont bother others kuladeivam  poi pollappa parunga da summa caste politics panikittu\",\n          \"tirunelveli arasiyal karangala kaikula pottu busstand marvadi pesikittu irukanga ini tamilagam nasama than povan\"\n        ],\n        \"semantic_type\": \"\",\n        \"description\": \"\"\n      }\n    },\n    {\n      \"column\": \"label\",\n      \"properties\": {\n        \"dtype\": \"number\",\n        \"std\": 0,\n        \"min\": 0,\n        \"max\": 1,\n        \"num_unique_values\": 2,\n        \"samples\": [\n          1,\n          0\n        ],\n        \"semantic_type\": \"\",\n        \"description\": \"\"\n      }\n    }\n  ]\n}"
            }
          },
          "metadata": {},
          "execution_count": 33
        }
      ],
      "source": [
        "eval_df.head(10)"
      ]
    },
    {
      "cell_type": "code",
      "source": [
        "# test_df.head(10)"
      ],
      "metadata": {
        "id": "_92dNi7W-m_e"
      },
      "execution_count": null,
      "outputs": []
    },
    {
      "cell_type": "code",
      "execution_count": null,
      "metadata": {
        "colab": {
          "base_uri": "https://localhost:8080/"
        },
        "id": "g335wa7IAg9_",
        "outputId": "8f451372-f41e-4258-f247-ce80c3a1738c"
      },
      "outputs": [
        {
          "output_type": "stream",
          "name": "stdout",
          "text": [
            "Requirement already satisfied: datasets in /usr/local/lib/python3.11/dist-packages (2.14.4)\n",
            "Requirement already satisfied: numpy>=1.17 in /usr/local/lib/python3.11/dist-packages (from datasets) (2.0.2)\n",
            "Requirement already satisfied: pyarrow>=8.0.0 in /usr/local/lib/python3.11/dist-packages (from datasets) (18.1.0)\n",
            "Requirement already satisfied: dill<0.3.8,>=0.3.0 in /usr/local/lib/python3.11/dist-packages (from datasets) (0.3.7)\n",
            "Requirement already satisfied: pandas in /usr/local/lib/python3.11/dist-packages (from datasets) (2.2.2)\n",
            "Requirement already satisfied: requests>=2.19.0 in /usr/local/lib/python3.11/dist-packages (from datasets) (2.32.3)\n",
            "Requirement already satisfied: tqdm>=4.62.1 in /usr/local/lib/python3.11/dist-packages (from datasets) (4.67.1)\n",
            "Requirement already satisfied: xxhash in /usr/local/lib/python3.11/dist-packages (from datasets) (3.5.0)\n",
            "Requirement already satisfied: multiprocess in /usr/local/lib/python3.11/dist-packages (from datasets) (0.70.15)\n",
            "Requirement already satisfied: fsspec>=2021.11.1 in /usr/local/lib/python3.11/dist-packages (from fsspec[http]>=2021.11.1->datasets) (2025.3.2)\n",
            "Requirement already satisfied: aiohttp in /usr/local/lib/python3.11/dist-packages (from datasets) (3.11.15)\n",
            "Requirement already satisfied: huggingface-hub<1.0.0,>=0.14.0 in /usr/local/lib/python3.11/dist-packages (from datasets) (0.31.1)\n",
            "Requirement already satisfied: packaging in /usr/local/lib/python3.11/dist-packages (from datasets) (24.2)\n",
            "Requirement already satisfied: pyyaml>=5.1 in /usr/local/lib/python3.11/dist-packages (from datasets) (6.0.2)\n",
            "Requirement already satisfied: aiohappyeyeballs>=2.3.0 in /usr/local/lib/python3.11/dist-packages (from aiohttp->datasets) (2.6.1)\n",
            "Requirement already satisfied: aiosignal>=1.1.2 in /usr/local/lib/python3.11/dist-packages (from aiohttp->datasets) (1.3.2)\n",
            "Requirement already satisfied: attrs>=17.3.0 in /usr/local/lib/python3.11/dist-packages (from aiohttp->datasets) (25.3.0)\n",
            "Requirement already satisfied: frozenlist>=1.1.1 in /usr/local/lib/python3.11/dist-packages (from aiohttp->datasets) (1.6.0)\n",
            "Requirement already satisfied: multidict<7.0,>=4.5 in /usr/local/lib/python3.11/dist-packages (from aiohttp->datasets) (6.4.3)\n",
            "Requirement already satisfied: propcache>=0.2.0 in /usr/local/lib/python3.11/dist-packages (from aiohttp->datasets) (0.3.1)\n",
            "Requirement already satisfied: yarl<2.0,>=1.17.0 in /usr/local/lib/python3.11/dist-packages (from aiohttp->datasets) (1.20.0)\n",
            "Requirement already satisfied: filelock in /usr/local/lib/python3.11/dist-packages (from huggingface-hub<1.0.0,>=0.14.0->datasets) (3.18.0)\n",
            "Requirement already satisfied: typing-extensions>=3.7.4.3 in /usr/local/lib/python3.11/dist-packages (from huggingface-hub<1.0.0,>=0.14.0->datasets) (4.13.2)\n",
            "Requirement already satisfied: hf-xet<2.0.0,>=1.1.0 in /usr/local/lib/python3.11/dist-packages (from huggingface-hub<1.0.0,>=0.14.0->datasets) (1.1.0)\n",
            "Requirement already satisfied: charset-normalizer<4,>=2 in /usr/local/lib/python3.11/dist-packages (from requests>=2.19.0->datasets) (3.4.2)\n",
            "Requirement already satisfied: idna<4,>=2.5 in /usr/local/lib/python3.11/dist-packages (from requests>=2.19.0->datasets) (3.10)\n",
            "Requirement already satisfied: urllib3<3,>=1.21.1 in /usr/local/lib/python3.11/dist-packages (from requests>=2.19.0->datasets) (2.4.0)\n",
            "Requirement already satisfied: certifi>=2017.4.17 in /usr/local/lib/python3.11/dist-packages (from requests>=2.19.0->datasets) (2025.4.26)\n",
            "Requirement already satisfied: python-dateutil>=2.8.2 in /usr/local/lib/python3.11/dist-packages (from pandas->datasets) (2.9.0.post0)\n",
            "Requirement already satisfied: pytz>=2020.1 in /usr/local/lib/python3.11/dist-packages (from pandas->datasets) (2025.2)\n",
            "Requirement already satisfied: tzdata>=2022.7 in /usr/local/lib/python3.11/dist-packages (from pandas->datasets) (2025.2)\n",
            "Requirement already satisfied: six>=1.5 in /usr/local/lib/python3.11/dist-packages (from python-dateutil>=2.8.2->pandas->datasets) (1.17.0)\n"
          ]
        }
      ],
      "source": [
        "!pip install datasets"
      ]
    },
    {
      "cell_type": "code",
      "execution_count": null,
      "metadata": {
        "id": "my2EoH_JAhAb"
      },
      "outputs": [],
      "source": [
        "from datasets import Dataset\n",
        "train_dataset = Dataset.from_pandas(train_df)\n",
        "eval_dataset = Dataset.from_pandas(eval_df)"
      ]
    },
    {
      "cell_type": "code",
      "source": [
        "test_dataset=Dataset.from_pandas(test_df)"
      ],
      "metadata": {
        "id": "-xm_wFO-1UeS"
      },
      "execution_count": null,
      "outputs": []
    },
    {
      "cell_type": "code",
      "execution_count": null,
      "metadata": {
        "id": "HSIKFS7Ix6CE"
      },
      "outputs": [],
      "source": [
        "# !pip install googletrans==4.0.0-rc1"
      ]
    },
    {
      "cell_type": "code",
      "execution_count": null,
      "metadata": {
        "id": "3L7477KL5z_5"
      },
      "outputs": [],
      "source": [
        "# !pip install indic_transliteration"
      ]
    },
    {
      "cell_type": "code",
      "source": [],
      "metadata": {
        "id": "9M5UqnDFI1KE"
      },
      "execution_count": null,
      "outputs": []
    },
    {
      "cell_type": "code",
      "execution_count": null,
      "metadata": {
        "id": "TC8nh4W76T97"
      },
      "outputs": [],
      "source": [
        "# !pip install deep-translator\n"
      ]
    },
    {
      "cell_type": "code",
      "execution_count": null,
      "metadata": {
        "id": "6uMj3pfB-UMi"
      },
      "outputs": [],
      "source": [
        "# import torch\n",
        "# from indic_transliteration import sanscript\n",
        "# from indic_transliteration.sanscript import transliterate\n",
        "# from googletrans import Translator\n",
        "# from concurrent.futures import ThreadPoolExecutor\n",
        "\n",
        "# # Initialize the translator\n",
        "# translator = Translator()\n",
        "\n",
        "# # Check if GPU is available\n",
        "# device = \"cuda\" if torch.cuda.is_available() else \"cpu\"\n",
        "# print(f\"Using device: {device}\")\n",
        "\n",
        "\n",
        "\n",
        "# # Directly translate Tamilish to English\n",
        "# def tamilish_to_english(text):\n",
        "#     try:\n",
        "#         translated = translator.translate(text, src=\"ta\", dest=\"en\")\n",
        "#         return translated.text\n",
        "#     except Exception as e:\n",
        "#         print(f\"Error in translating: {text}, {e}\")\n",
        "#         return text  # Return original text in case of failure\n",
        "\n",
        "# # Batch processing for faster execution\n",
        "# def convert_batch(batch_texts):\n",
        "#     with ThreadPoolExecutor(max_workers=5) as executor:  # Adjust workers as needed\n",
        "#         english_texts = list(executor.map(tamilish_to_english, batch_texts))\n",
        "#     return english_texts\n",
        "\n",
        "# # Function to process text in the Hugging Face dataset with batching\n",
        "# def convert_tamilish_to_english(examples, batch_size=16):  # Adjust batch size\n",
        "#     texts = examples[\"text\"]\n",
        "#     converted_texts = []\n",
        "\n",
        "#     # Process texts in batches\n",
        "#     for i in range(0, len(texts), batch_size):\n",
        "#         batch = texts[i : i + batch_size]\n",
        "#         converted_texts.extend(convert_batch(batch))\n",
        "\n",
        "#     examples[\"text\"] = converted_texts\n",
        "#     return examples\n",
        "\n",
        "# # Convert text in train and evaluation datasets with batch processing\n",
        "# train_dataset = train_dataset.map(lambda x: convert_tamilish_to_english(x), batched=True, batch_size=16)\n",
        "# eval_dataset = eval_dataset.map(lambda x: convert_tamilish_to_english(x), batched=True, batch_size=16)\n",
        "\n",
        "\n"
      ]
    },
    {
      "cell_type": "code",
      "execution_count": null,
      "metadata": {
        "id": "Wa8sXvSc_574",
        "colab": {
          "base_uri": "https://localhost:8080/"
        },
        "outputId": "c123cc67-dd57-47b4-8973-7aaa4f70294f"
      },
      "outputs": [
        {
          "output_type": "stream",
          "name": "stdout",
          "text": [
            "Requirement already satisfied: indic-nlp-library in /usr/local/lib/python3.11/dist-packages (0.92)\n",
            "Requirement already satisfied: sphinx-argparse in /usr/local/lib/python3.11/dist-packages (from indic-nlp-library) (0.5.2)\n",
            "Requirement already satisfied: sphinx-rtd-theme in /usr/local/lib/python3.11/dist-packages (from indic-nlp-library) (3.0.2)\n",
            "Requirement already satisfied: morfessor in /usr/local/lib/python3.11/dist-packages (from indic-nlp-library) (2.0.6)\n",
            "Requirement already satisfied: pandas in /usr/local/lib/python3.11/dist-packages (from indic-nlp-library) (2.2.2)\n",
            "Requirement already satisfied: numpy in /usr/local/lib/python3.11/dist-packages (from indic-nlp-library) (2.0.2)\n",
            "Requirement already satisfied: python-dateutil>=2.8.2 in /usr/local/lib/python3.11/dist-packages (from pandas->indic-nlp-library) (2.9.0.post0)\n",
            "Requirement already satisfied: pytz>=2020.1 in /usr/local/lib/python3.11/dist-packages (from pandas->indic-nlp-library) (2025.2)\n",
            "Requirement already satisfied: tzdata>=2022.7 in /usr/local/lib/python3.11/dist-packages (from pandas->indic-nlp-library) (2025.2)\n",
            "Requirement already satisfied: sphinx>=5.1.0 in /usr/local/lib/python3.11/dist-packages (from sphinx-argparse->indic-nlp-library) (8.2.3)\n",
            "Requirement already satisfied: docutils>=0.19 in /usr/local/lib/python3.11/dist-packages (from sphinx-argparse->indic-nlp-library) (0.21.2)\n",
            "Requirement already satisfied: sphinxcontrib-jquery<5,>=4 in /usr/local/lib/python3.11/dist-packages (from sphinx-rtd-theme->indic-nlp-library) (4.1)\n",
            "Requirement already satisfied: six>=1.5 in /usr/local/lib/python3.11/dist-packages (from python-dateutil>=2.8.2->pandas->indic-nlp-library) (1.17.0)\n",
            "Requirement already satisfied: sphinxcontrib-applehelp>=1.0.7 in /usr/local/lib/python3.11/dist-packages (from sphinx>=5.1.0->sphinx-argparse->indic-nlp-library) (2.0.0)\n",
            "Requirement already satisfied: sphinxcontrib-devhelp>=1.0.6 in /usr/local/lib/python3.11/dist-packages (from sphinx>=5.1.0->sphinx-argparse->indic-nlp-library) (2.0.0)\n",
            "Requirement already satisfied: sphinxcontrib-htmlhelp>=2.0.6 in /usr/local/lib/python3.11/dist-packages (from sphinx>=5.1.0->sphinx-argparse->indic-nlp-library) (2.1.0)\n",
            "Requirement already satisfied: sphinxcontrib-jsmath>=1.0.1 in /usr/local/lib/python3.11/dist-packages (from sphinx>=5.1.0->sphinx-argparse->indic-nlp-library) (1.0.1)\n",
            "Requirement already satisfied: sphinxcontrib-qthelp>=1.0.6 in /usr/local/lib/python3.11/dist-packages (from sphinx>=5.1.0->sphinx-argparse->indic-nlp-library) (2.0.0)\n",
            "Requirement already satisfied: sphinxcontrib-serializinghtml>=1.1.9 in /usr/local/lib/python3.11/dist-packages (from sphinx>=5.1.0->sphinx-argparse->indic-nlp-library) (2.0.0)\n",
            "Requirement already satisfied: Jinja2>=3.1 in /usr/local/lib/python3.11/dist-packages (from sphinx>=5.1.0->sphinx-argparse->indic-nlp-library) (3.1.6)\n",
            "Requirement already satisfied: Pygments>=2.17 in /usr/local/lib/python3.11/dist-packages (from sphinx>=5.1.0->sphinx-argparse->indic-nlp-library) (2.19.1)\n",
            "Requirement already satisfied: snowballstemmer>=2.2 in /usr/local/lib/python3.11/dist-packages (from sphinx>=5.1.0->sphinx-argparse->indic-nlp-library) (2.2.0)\n",
            "Requirement already satisfied: babel>=2.13 in /usr/local/lib/python3.11/dist-packages (from sphinx>=5.1.0->sphinx-argparse->indic-nlp-library) (2.17.0)\n",
            "Requirement already satisfied: alabaster>=0.7.14 in /usr/local/lib/python3.11/dist-packages (from sphinx>=5.1.0->sphinx-argparse->indic-nlp-library) (1.0.0)\n",
            "Requirement already satisfied: imagesize>=1.3 in /usr/local/lib/python3.11/dist-packages (from sphinx>=5.1.0->sphinx-argparse->indic-nlp-library) (1.4.1)\n",
            "Requirement already satisfied: requests>=2.30.0 in /usr/local/lib/python3.11/dist-packages (from sphinx>=5.1.0->sphinx-argparse->indic-nlp-library) (2.32.3)\n",
            "Requirement already satisfied: roman-numerals-py>=1.0.0 in /usr/local/lib/python3.11/dist-packages (from sphinx>=5.1.0->sphinx-argparse->indic-nlp-library) (3.1.0)\n",
            "Requirement already satisfied: packaging>=23.0 in /usr/local/lib/python3.11/dist-packages (from sphinx>=5.1.0->sphinx-argparse->indic-nlp-library) (24.2)\n",
            "Requirement already satisfied: MarkupSafe>=2.0 in /usr/local/lib/python3.11/dist-packages (from Jinja2>=3.1->sphinx>=5.1.0->sphinx-argparse->indic-nlp-library) (3.0.2)\n",
            "Requirement already satisfied: charset-normalizer<4,>=2 in /usr/local/lib/python3.11/dist-packages (from requests>=2.30.0->sphinx>=5.1.0->sphinx-argparse->indic-nlp-library) (3.4.2)\n",
            "Requirement already satisfied: idna<4,>=2.5 in /usr/local/lib/python3.11/dist-packages (from requests>=2.30.0->sphinx>=5.1.0->sphinx-argparse->indic-nlp-library) (3.10)\n",
            "Requirement already satisfied: urllib3<3,>=1.21.1 in /usr/local/lib/python3.11/dist-packages (from requests>=2.30.0->sphinx>=5.1.0->sphinx-argparse->indic-nlp-library) (2.4.0)\n",
            "Requirement already satisfied: certifi>=2017.4.17 in /usr/local/lib/python3.11/dist-packages (from requests>=2.30.0->sphinx>=5.1.0->sphinx-argparse->indic-nlp-library) (2025.4.26)\n"
          ]
        }
      ],
      "source": [
        "!pip install indic-nlp-library"
      ]
    },
    {
      "cell_type": "code",
      "execution_count": null,
      "metadata": {
        "id": "qNcjmfVZAhCy"
      },
      "outputs": [],
      "source": [
        "from sklearn.feature_extraction.text import TfidfVectorizer\n",
        "\n",
        "tfidf_vectorizer = TfidfVectorizer(max_features=5000, ngram_range=(1,2))  # Include bigrams\n",
        "X_train_tfidf = tfidf_vectorizer.fit_transform(train_dataset[\"text\"])\n",
        "X_test_tfidf = tfidf_vectorizer.transform(eval_dataset[\"text\"])\n"
      ]
    },
    {
      "cell_type": "code",
      "source": [
        "test_tfidf=tfidf_vectorizer.transform(test_dataset[\"text\"])"
      ],
      "metadata": {
        "id": "f6DyeoeU1ALj"
      },
      "execution_count": null,
      "outputs": []
    },
    {
      "cell_type": "code",
      "execution_count": null,
      "metadata": {
        "id": "X_nmYgaqAhFK",
        "colab": {
          "base_uri": "https://localhost:8080/"
        },
        "outputId": "b8f19a17-d116-4bcc-9ebb-713450fbdaca"
      },
      "outputs": [
        {
          "output_type": "execute_result",
          "data": {
            "text/plain": [
              "512"
            ]
          },
          "metadata": {},
          "execution_count": 45
        }
      ],
      "source": [
        "import os\n",
        "\n",
        "os.system(\"wget https://dl.fbaipublicfiles.com/fasttext/vectors-crawl/cc.en.300.bin.gz\")\n",
        "os.system(\"gunzip cc.en.300.bin.gz\")\n",
        "\n"
      ]
    },
    {
      "cell_type": "code",
      "execution_count": null,
      "metadata": {
        "id": "YpgEANELFHv6",
        "colab": {
          "base_uri": "https://localhost:8080/"
        },
        "outputId": "1a9194b3-5da2-43ee-f90a-65694288f33d"
      },
      "outputs": [
        {
          "output_type": "stream",
          "name": "stdout",
          "text": [
            "Requirement already satisfied: fasttext in /usr/local/lib/python3.11/dist-packages (0.9.3)\n",
            "Requirement already satisfied: pybind11>=2.2 in /usr/local/lib/python3.11/dist-packages (from fasttext) (2.13.6)\n",
            "Requirement already satisfied: setuptools>=0.7.0 in /usr/local/lib/python3.11/dist-packages (from fasttext) (75.2.0)\n",
            "Requirement already satisfied: numpy in /usr/local/lib/python3.11/dist-packages (from fasttext) (2.0.2)\n"
          ]
        }
      ],
      "source": [
        "!pip install fasttext"
      ]
    },
    {
      "cell_type": "code",
      "execution_count": null,
      "metadata": {
        "id": "rgmjWlORAhHs"
      },
      "outputs": [],
      "source": [
        "# import fasttext\n",
        "# import numpy as np\n",
        "\n",
        "# # Load FastText model\n",
        "# fasttext_model = fasttext.load_model(\"cc.en.300.bin\")\n",
        "\n",
        "# def get_fasttext_embedding(text):\n",
        "#     words = text.split()\n",
        "#     embeddings = [fasttext_model.get_word_vector(w) for w in words if w in fasttext_model.words]\n",
        "#     return np.mean(embeddings, axis=0) if embeddings else np.zeros(300)\n",
        "\n",
        "# # Convert dataset to embeddings\n",
        "# X_train_fasttext = np.array([get_fasttext_embedding(text) for text in train_dataset[\"text\"]])\n",
        "# X_test_fasttext = np.array([get_fasttext_embedding(text) for text in eval_dataset[\"text\"]])\n",
        "import fasttext\n",
        "import numpy as np\n",
        "from concurrent.futures import ProcessPoolExecutor\n",
        "\n",
        "# Load FastText model\n",
        "fasttext_model = fasttext.load_model(\"cc.en.300.bin\")\n",
        "\n",
        "def get_fasttext_embedding(text):\n",
        "    \"\"\" Get the FastText embedding of a sentence. \"\"\"\n",
        "    return fasttext_model.get_sentence_vector(text)\n",
        "\n",
        "def parallel_embedding_conversion(dataset):\n",
        "    \"\"\" Parallel processing for FastText embeddings. \"\"\"\n",
        "    with ProcessPoolExecutor() as executor:\n",
        "        embeddings = list(executor.map(get_fasttext_embedding, dataset[\"text\"]))\n",
        "    return np.array(embeddings)\n",
        "\n",
        "# Convert dataset to embeddings (Parallelized)\n",
        "X_train_fasttext = parallel_embedding_conversion(train_dataset)\n",
        "X_test_fasttext = parallel_embedding_conversion(eval_dataset)\n"
      ]
    },
    {
      "cell_type": "code",
      "source": [
        "test_fasttext=parallel_embedding_conversion(test_dataset)"
      ],
      "metadata": {
        "id": "SsNLXB7I04l8"
      },
      "execution_count": null,
      "outputs": []
    },
    {
      "cell_type": "code",
      "execution_count": null,
      "metadata": {
        "id": "lbrKNzQ4AhJ9"
      },
      "outputs": [],
      "source": [
        "\n",
        "from transformers import BertTokenizer, BertForSequenceClassification\n",
        "import torch\n",
        "import numpy as np\n",
        "\n",
        "# Check if GPU is available\n",
        "device = torch.device(\"cuda\" if torch.cuda.is_available() else \"cpu\")\n",
        "print(f\"Using device: {device}\")\n",
        "\n",
        "# Load M-BERT tokenizer and model for sequence classification\n",
        "tokenizer = BertTokenizer.from_pretrained(\"bert-base-multilingual-cased\")\n",
        "bert_model = BertForSequenceClassification.from_pretrained(\"bert-base-multilingual-cased\", num_labels=2).to(device)  # Binary classification\n",
        "\n",
        "def tokenize_text_batch(texts):\n",
        "    \"\"\" Tokenize a batch of texts. \"\"\"\n",
        "    return tokenizer(texts, padding=True, truncation=True, max_length=128, return_tensors=\"pt\")\n",
        "\n",
        "def get_bert_embeddings(tokens_batch):\n",
        "    \"\"\" Compute BERT embeddings and classification logits for a batch of texts. \"\"\"\n",
        "    input_ids = tokens_batch[\"input_ids\"].to(device)\n",
        "    attention_mask = tokens_batch[\"attention_mask\"].to(device)\n",
        "\n",
        "    with torch.no_grad():\n",
        "        output = bert_model(input_ids, attention_mask=attention_mask)\n",
        "\n",
        "    # Return the logits (classification output) from the model\n",
        "    return output.logits.cpu().numpy()  # Use the logits for classification predictions\n",
        "\n",
        "# Batch processing for both train and test datasets\n",
        "batch_size = 32  # You can adjust this depending on your memory capacity\n",
        "X_train_bert = []\n",
        "X_test_bert = []\n",
        "test_bert=[]\n",
        "# Process train dataset in batches\n",
        "for i in range(0, len(train_dataset[\"text\"]), batch_size):\n",
        "    batch_texts = train_dataset[\"text\"][i:i+batch_size]\n",
        "    tokens_batch = tokenize_text_batch(batch_texts)\n",
        "    batch_logits = get_bert_embeddings(tokens_batch)\n",
        "    X_train_bert.append(batch_logits)\n",
        "\n",
        "# Process test dataset in batches\n",
        "for i in range(0, len(eval_dataset[\"text\"]), batch_size):\n",
        "    batch_texts = eval_dataset[\"text\"][i:i+batch_size]\n",
        "    tokens_batch = tokenize_text_batch(batch_texts)\n",
        "    batch_logits = get_bert_embeddings(tokens_batch)\n",
        "    X_test_bert.append(batch_logits)\n",
        "\n",
        "for i in range(0, len(test_dataset[\"text\"]), batch_size):\n",
        "    batch_texts = test_dataset[\"text\"][i:i+batch_size]\n",
        "    tokens_batch = tokenize_text_batch(batch_texts)\n",
        "    batch_logits = get_bert_embeddings(tokens_batch)\n",
        "    test_bert.append(batch_logits)\n",
        "# Convert to numpy arrays\n",
        "X_train_bert = np.vstack(X_train_bert)\n",
        "X_test_bert = np.vstack(X_test_bert)\n",
        "test_bert=np.vstack(test_bert)\n",
        "\n"
      ]
    },
    {
      "cell_type": "code",
      "source": [
        "if len(test_bert) == 0:\n",
        "    print(\"test_bert is empty!\")\n"
      ],
      "metadata": {
        "id": "Ac42D0HobeLa"
      },
      "execution_count": null,
      "outputs": []
    },
    {
      "cell_type": "code",
      "source": [],
      "metadata": {
        "id": "wEPYO1kK5uUg"
      },
      "execution_count": null,
      "outputs": []
    },
    {
      "cell_type": "code",
      "source": [],
      "metadata": {
        "id": "gf9fXL4f1HEc"
      },
      "execution_count": null,
      "outputs": []
    },
    {
      "cell_type": "code",
      "execution_count": null,
      "metadata": {
        "id": "LwNesACuAhMm"
      },
      "outputs": [],
      "source": [
        "# Stack all features\n",
        "X_train_combined = np.hstack([X_train_tfidf.toarray(), X_train_fasttext, X_train_bert])\n",
        "X_test_combined = np.hstack([X_test_tfidf.toarray(), X_test_fasttext, X_test_bert])\n"
      ]
    },
    {
      "cell_type": "code",
      "source": [
        "test_combined=np.hstack([test_tfidf.toarray(),test_fasttext,test_bert])"
      ],
      "metadata": {
        "id": "6MVGko4F1hYp"
      },
      "execution_count": null,
      "outputs": []
    },
    {
      "cell_type": "code",
      "execution_count": null,
      "metadata": {
        "id": "q_yD8ipnAhQN"
      },
      "outputs": [],
      "source": [
        "# y_pred=\n"
      ]
    },
    {
      "cell_type": "code",
      "execution_count": null,
      "metadata": {
        "id": "OuKeoRNMEKPZ"
      },
      "outputs": [],
      "source": [
        "# from sklearn.ensemble import RandomForestClassifier\n",
        "# from sklearn.model_selection import RandomizedSearchCV\n",
        "# from sklearn.metrics import classification_report\n",
        "# import numpy as np\n",
        "\n",
        "# # Define parameter grid\n",
        "# param_dist = {\n",
        "#     \"n_estimators\": [ 200, 300],  # Number of trees\n",
        "#     \"max_depth\": [20, 30,  None],  # Depth of each tree\n",
        "#     \"min_samples_split\": [2, 5, 10],  # Minimum samples to split a node\n",
        "#     \"min_samples_leaf\": [ 2, 4],  # Minimum samples per leaf\n",
        "#     \"max_features\": [\"sqrt\", \"log2\"],  # Number of features to consider\n",
        "#     \"bootstrap\": [True, False]  # Bootstrap sampling\n",
        "# }\n",
        "\n",
        "# # Create model\n",
        "# clf = RandomForestClassifier(random_state=42)\n",
        "\n",
        "# # Randomized search (faster than GridSearch)\n",
        "# random_search = RandomizedSearchCV(\n",
        "#     clf, param_distributions=param_dist,\n",
        "#     n_iter=100, cv=3, verbose=2, n_jobs=-1, random_state=42\n",
        "# )\n",
        "\n",
        "# # Train the model with hyperparameter tuning\n",
        "# random_search.fit(X_train_combined, train_dataset[\"label\"])\n",
        "\n",
        "# # Best parameters\n",
        "# print(\"Best Parameters:\", random_search.best_params_)\n",
        "\n",
        "# # Train final model using best parameters\n",
        "# best_clf = random_search.best_estimator_\n",
        "\n",
        "# # Predict\n",
        "# # y_pred = best_clf.predict(X_test_combined)\n",
        "# predicted=best_clf.predict(test_combined)\n",
        "# # Evaluate model\n",
        "# # print(classification_report(eval_dataset[\"label\"], y_pred))\n"
      ]
    },
    {
      "cell_type": "code",
      "source": [
        "# test_combined"
      ],
      "metadata": {
        "id": "PViKazuYaCcW"
      },
      "execution_count": null,
      "outputs": []
    },
    {
      "cell_type": "code",
      "source": [
        "# predicted=best_clf.predict(test_combined)"
      ],
      "metadata": {
        "id": "5UGkQ81lWDg9"
      },
      "execution_count": null,
      "outputs": []
    },
    {
      "cell_type": "code",
      "execution_count": null,
      "metadata": {
        "id": "mzjL0PiN4tQI"
      },
      "outputs": [],
      "source": [
        "# from sklearn.ensemble import RandomForestClassifier\n",
        "# from sklearn.metrics import classification_report\n",
        "\n",
        "# # Train model\n",
        "# clf = RandomForestClassifier(n_estimators=100, random_state=42)\n",
        "# clf.fit(X_train_combined, train_dataset[\"label\"])\n",
        "\n",
        "# # Predict\n",
        "# y_pred = clf.predict(X_test_combined)\n",
        "\n",
        "# # Evaluate model\n",
        "# print(classification_report(eval_dataset[\"label\"], y_pred))"
      ]
    },
    {
      "cell_type": "code",
      "execution_count": null,
      "metadata": {
        "id": "kIkUAH1M4aSn"
      },
      "outputs": [],
      "source": [
        "# from sklearn.metrics import confusion_matrix\n",
        "\n",
        "# confusion_matrix = confusion_matrix(eval_dataset[\"label\"], y_pred)\n",
        "# print(\"Confusion Matrix:\")\n",
        "# print(confusion_matrix)"
      ]
    },
    {
      "cell_type": "code",
      "execution_count": null,
      "metadata": {
        "id": "T9XgYBUc4wvA"
      },
      "outputs": [],
      "source": [
        "# from sklearn.metrics import confusion_matrix\n",
        "\n",
        "# confusion_matrix = confusion_matrix(eval_dataset[\"label\"], y_pred)\n",
        "# print(\"Confusion Matrix:\")\n",
        "# print(confusion_matrix)"
      ]
    },
    {
      "cell_type": "code",
      "execution_count": null,
      "metadata": {
        "id": "o4p_YIbtkl7C"
      },
      "outputs": [],
      "source": [
        "# test_ids = test_df[\"id\"].values  # Replace with actual column name in your test dataset\n",
        "\n",
        "# # Create a DataFrame in the required format\n",
        "# submission_df = pd.DataFrame({\"id\": test_ids, \"prediction\": predicted})\n",
        "\n",
        "# # Save the submission file without a header\n",
        "# submission_df.to_csv(\"girlsTeam_run2.csv\", index=False, header=False)"
      ]
    },
    {
      "cell_type": "code",
      "source": [
        "# from google.colab import files\n",
        "# files.download(\"girlsTeam_run2.csv\")\n"
      ],
      "metadata": {
        "id": "2lGARwmUWwEW"
      },
      "execution_count": null,
      "outputs": []
    },
    {
      "cell_type": "code",
      "source": [
        "y_train = np.array(train_dataset[\"label\"]).reshape(-1)\n",
        "y_eval = np.array(eval_dataset[\"label\"]).reshape(-1)"
      ],
      "metadata": {
        "id": "gqMWSJLyFNbw"
      },
      "execution_count": null,
      "outputs": []
    },
    {
      "cell_type": "code",
      "source": [
        "test_eval=np.array(test_dataset[\"label\"]).reshape(-1)"
      ],
      "metadata": {
        "id": "URtc10p2ZluO"
      },
      "execution_count": null,
      "outputs": []
    },
    {
      "cell_type": "code",
      "source": [
        "X_train1_bert = np.array(X_train_combined, dtype=np.float32)\n",
        "X_eval_bert = np.array(X_test_combined, dtype=np.float32)"
      ],
      "metadata": {
        "id": "EBe_3peuF34W"
      },
      "execution_count": null,
      "outputs": []
    },
    {
      "cell_type": "code",
      "source": [
        "test_eval_bert=np.array(test_combined,dtype=np.float32)"
      ],
      "metadata": {
        "id": "IepeUnvcZpiQ"
      },
      "execution_count": null,
      "outputs": []
    },
    {
      "cell_type": "code",
      "source": [
        "X_train1_bert = X_train1_bert.reshape((X_train1_bert.shape[0], 1, X_train1_bert.shape[1]))\n",
        "X_eval_bert = X_eval_bert.reshape((X_eval_bert.shape[0], 1, X_eval_bert.shape[1]))"
      ],
      "metadata": {
        "id": "8gq5NKpCGFnw"
      },
      "execution_count": null,
      "outputs": []
    },
    {
      "cell_type": "code",
      "source": [
        "test_eval_bert=test_eval_bert.reshape((test_eval_bert.shape[0],1,test_eval_bert.shape[1]))"
      ],
      "metadata": {
        "id": "2oFpNB9yZ8AD"
      },
      "execution_count": null,
      "outputs": []
    },
    {
      "cell_type": "code",
      "source": [
        "from tensorflow.keras.models import Sequential\n",
        "from tensorflow.keras.layers import LSTM, Dense, Bidirectional, Dropout, Input\n",
        "from tensorflow.keras.layers import BatchNormalization\n",
        "from tensorflow.keras.callbacks import EarlyStopping\n",
        "from sklearn.utils import class_weight\n",
        "\n",
        "class_weights = class_weight.compute_class_weight(\n",
        "    class_weight='balanced',\n",
        "    classes=np.unique(y_train),\n",
        "    y=y_train\n",
        ")\n",
        "\n",
        "# Convert class_weights to a dictionary\n",
        "class_weight_dict = {i: class_weights[i] for i in range(len(class_weights))}\n",
        "# Define BiLSTM Model\n",
        "def build_bilstm_model(input_shape):\n",
        "    model = Sequential([\n",
        "        Input(shape=input_shape),  # Explicit input layer\n",
        "        Bidirectional(LSTM(256, return_sequences=True)),\n",
        "        Dropout(0.3),\n",
        "        BatchNormalization(),\n",
        "        Bidirectional(LSTM(128, return_sequences=True)),\n",
        "        Dropout(0.3),\n",
        "        BatchNormalization(),\n",
        "        Bidirectional(LSTM(64)),\n",
        "        Dropout(0.3),\n",
        "        Dense(32, activation=\"relu\"),\n",
        "        Dense(1, activation=\"sigmoid\")  # Binary classification\n",
        "    ])\n",
        "    model.compile(optimizer=\"adam\", loss=\"binary_crossentropy\", metrics=[\"accuracy\"])\n",
        "    return model\n",
        "\n",
        "# Get input shape (the shape should be (timesteps, features) for LSTM)\n",
        "input_shape = (X_train1_bert.shape[1], X_train1_bert.shape[2])  # (1, 768)\n",
        "\n",
        "# Build the BiLSTM model\n",
        "bilstm_model = build_bilstm_model(input_shape)\n",
        "\n",
        "# Early stopping to prevent overfitting\n",
        "early_stopping = EarlyStopping(monitor='val_loss', patience=5)\n",
        "\n",
        "# Train the BiLSTM model\n",
        "history=bilstm_model.fit(X_train1_bert, y_train, validation_data=(X_eval_bert, y_eval),  class_weight=class_weight_dict, epochs=100, batch_size=32, callbacks=[early_stopping])\n",
        "\n"
      ],
      "metadata": {
        "id": "khQ_va0rGr9R"
      },
      "execution_count": null,
      "outputs": []
    },
    {
      "cell_type": "code",
      "source": [
        "# test_combined=np.array(test_combined,dtype=np.float32)"
      ],
      "metadata": {
        "id": "gRTlqGsDJP_0"
      },
      "execution_count": null,
      "outputs": []
    },
    {
      "cell_type": "code",
      "source": [
        "# test_combined = test_combined.reshape((test_combined.shape[0], 1, test_combined.shape[1]))"
      ],
      "metadata": {
        "id": "88w68SorJUSj"
      },
      "execution_count": null,
      "outputs": []
    },
    {
      "cell_type": "code",
      "source": [
        "y_pred=bilstm_model.predict(test_eval_bert)"
      ],
      "metadata": {
        "id": "kEnbid-fI55p"
      },
      "execution_count": null,
      "outputs": []
    },
    {
      "cell_type": "code",
      "source": [
        "y_pred"
      ],
      "metadata": {
        "id": "axs6S1MiJZ5n"
      },
      "execution_count": null,
      "outputs": []
    },
    {
      "cell_type": "code",
      "source": [
        "# predicted=predicted.flatten()"
      ],
      "metadata": {
        "id": "u1Kty2k4JbL2"
      },
      "execution_count": null,
      "outputs": []
    },
    {
      "cell_type": "code",
      "source": [
        "from sklearn.metrics import classification_report, confusion_matrix\n",
        "import seaborn as sns\n",
        "import matplotlib.pyplot as plt\n",
        "\n",
        "# Get Predictions\n",
        "y_pred = (bilstm_model.predict(X_eval_bert) > 0.5).astype(int)\n",
        "\n",
        "print(classification_report(y_eval,y_pred,digits=4))\n"
      ],
      "metadata": {
        "id": "8IrlMQhXJhxl"
      },
      "execution_count": null,
      "outputs": []
    },
    {
      "cell_type": "code",
      "source": [
        "cm = confusion_matrix(y_eval, y_pred)\n",
        "\n",
        "# Plot Confusion Matrix using Seaborn heatmap\n",
        "sns.heatmap(cm, annot=True, fmt='d', cmap='Blues', xticklabels=['Negative', 'Positive'], yticklabels=['Negative', 'Positive'])\n",
        "plt.xlabel('Predicted')\n",
        "plt.ylabel('True')\n",
        "plt.title('Confusion Matrix')\n",
        "plt.show()"
      ],
      "metadata": {
        "id": "uJajxH-XYOAG"
      },
      "execution_count": null,
      "outputs": []
    },
    {
      "cell_type": "code",
      "source": [
        "# print confusion_matrix\n",
        "import matplotlib.pyplot as plt\n",
        "\n",
        "# Plot training and validation loss\n",
        "plt.plot(history.history['loss'], label='Training Loss')\n",
        "plt.plot(history.history['val_loss'], label='Validation Loss')\n",
        "plt.xlabel('Epochs')\n",
        "plt.ylabel('Loss')\n",
        "plt.legend()\n",
        "plt.title('Training and Validation Loss Curve')\n",
        "plt.show()\n"
      ],
      "metadata": {
        "id": "3TkZNYR6X7_c"
      },
      "execution_count": null,
      "outputs": []
    },
    {
      "cell_type": "markdown",
      "metadata": {
        "id": "stjZNaibCaiu"
      },
      "source": [
        "or transformer"
      ]
    }
  ],
  "metadata": {
    "accelerator": "GPU",
    "colab": {
      "gpuType": "T4",
      "provenance": []
    },
    "kernelspec": {
      "display_name": "Python 3",
      "name": "python3"
    },
    "language_info": {
      "name": "python"
    }
  },
  "nbformat": 4,
  "nbformat_minor": 0
}